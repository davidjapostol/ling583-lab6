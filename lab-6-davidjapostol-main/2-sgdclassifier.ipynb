{
 "cells": [
  {
   "cell_type": "markdown",
   "id": "native-israeli",
   "metadata": {},
   "source": [
    "# LAB 6: Text classification with linear models\n",
    "\n",
    "Objectives:\n",
    "\n",
    "* Train and evaluate linear text classifiers using SGDClassifier\n",
    "* Experiment with different feature extraction and training methods\n",
    "* Log and evaluate experimental results using [mlflow](https://mlflow.org)"
   ]
  },
  {
   "cell_type": "code",
   "execution_count": 1,
   "id": "twelve-israel",
   "metadata": {},
   "outputs": [],
   "source": [
    "import numpy as np\n",
    "import pandas as pd\n",
    "from cytoolz import *\n",
    "from tqdm.auto import tqdm\n",
    "\n",
    "tqdm.pandas()"
   ]
  },
  {
   "cell_type": "markdown",
   "id": "pacific-pound",
   "metadata": {},
   "source": [
    "### Load and preprocess data"
   ]
  },
  {
   "cell_type": "code",
   "execution_count": 2,
   "id": "likely-disposition",
   "metadata": {},
   "outputs": [],
   "source": [
    "train = pd.read_parquet(\n",
    "    \"s3://ling583/rcv1-topics-train.parquet\", storage_options={\"anon\": True}\n",
    ")\n",
    "test = pd.read_parquet(\n",
    "    \"s3://ling583/rcv1-topics-test.parquet\", storage_options={\"anon\": True}\n",
    ")"
   ]
  },
  {
   "cell_type": "code",
   "execution_count": 3,
   "id": "crucial-office",
   "metadata": {},
   "outputs": [
    {
     "data": {
      "text/html": [
       "<div>\n",
       "<style scoped>\n",
       "    .dataframe tbody tr th:only-of-type {\n",
       "        vertical-align: middle;\n",
       "    }\n",
       "\n",
       "    .dataframe tbody tr th {\n",
       "        vertical-align: top;\n",
       "    }\n",
       "\n",
       "    .dataframe thead th {\n",
       "        text-align: right;\n",
       "    }\n",
       "</style>\n",
       "<table border=\"1\" class=\"dataframe\">\n",
       "  <thead>\n",
       "    <tr style=\"text-align: right;\">\n",
       "      <th></th>\n",
       "      <th>text</th>\n",
       "      <th>topics</th>\n",
       "    </tr>\n",
       "  </thead>\n",
       "  <tbody>\n",
       "    <tr>\n",
       "      <th>0</th>\n",
       "      <td>NZ bonds close well bid ahead of key U.S. data...</td>\n",
       "      <td>MCAT</td>\n",
       "    </tr>\n",
       "    <tr>\n",
       "      <th>1</th>\n",
       "      <td>Asia Product Swaps - Jet/gas oil regrade at di...</td>\n",
       "      <td>MCAT</td>\n",
       "    </tr>\n",
       "    <tr>\n",
       "      <th>2</th>\n",
       "      <td>U.S. public schools get a C report card in qua...</td>\n",
       "      <td>GCAT</td>\n",
       "    </tr>\n",
       "    <tr>\n",
       "      <th>3</th>\n",
       "      <td>Thunder Bay vessel clearances - May 12. Daily ...</td>\n",
       "      <td>MCAT</td>\n",
       "    </tr>\n",
       "    <tr>\n",
       "      <th>4</th>\n",
       "      <td>Amoco gains shares in Ula,Gyda N.Sea fields. A...</td>\n",
       "      <td>CCAT</td>\n",
       "    </tr>\n",
       "  </tbody>\n",
       "</table>\n",
       "</div>"
      ],
      "text/plain": [
       "                                                text topics\n",
       "0  NZ bonds close well bid ahead of key U.S. data...   MCAT\n",
       "1  Asia Product Swaps - Jet/gas oil regrade at di...   MCAT\n",
       "2  U.S. public schools get a C report card in qua...   GCAT\n",
       "3  Thunder Bay vessel clearances - May 12. Daily ...   MCAT\n",
       "4  Amoco gains shares in Ula,Gyda N.Sea fields. A...   CCAT"
      ]
     },
     "execution_count": 3,
     "metadata": {},
     "output_type": "execute_result"
    }
   ],
   "source": [
    "train.head()"
   ]
  },
  {
   "cell_type": "markdown",
   "id": "official-drama",
   "metadata": {},
   "source": [
    "CCAT : CORPORATE/INDUSTRIAL  \n",
    "ECAT : ECONOMICS  \n",
    "GCAT : GOVERNMENT/SOCIAL  \n",
    "MCAT : MARKETS"
   ]
  },
  {
   "cell_type": "code",
   "execution_count": 4,
   "id": "acquired-module",
   "metadata": {},
   "outputs": [
    {
     "data": {
      "text/plain": [
       "CCAT    5896\n",
       "MCAT    3281\n",
       "GCAT    3225\n",
       "ECAT    1073\n",
       "Name: topics, dtype: int64"
      ]
     },
     "execution_count": 4,
     "metadata": {},
     "output_type": "execute_result"
    }
   ],
   "source": [
    "train[\"topics\"].value_counts()"
   ]
  },
  {
   "cell_type": "code",
   "execution_count": 5,
   "id": "annoying-rebound",
   "metadata": {},
   "outputs": [],
   "source": [
    "import spacy\n",
    "\n",
    "nlp = spacy.load(\n",
    "    \"en_core_web_sm\",\n",
    "    exclude=[\"tagger\", \"parser\", \"ner\", \"lemmatizer\", \"attribute_ruler\"],\n",
    ")\n",
    "\n",
    "\n",
    "def tokenize(text):\n",
    "    doc = nlp.tokenizer(text)\n",
    "    return [t.norm_ for t in doc if t.is_alpha]"
   ]
  },
  {
   "cell_type": "code",
   "execution_count": 6,
   "id": "outdoor-variety",
   "metadata": {},
   "outputs": [],
   "source": [
    "import multiprocessing as mp"
   ]
  },
  {
   "cell_type": "code",
   "execution_count": 7,
   "id": "challenging-executive",
   "metadata": {},
   "outputs": [
    {
     "data": {
      "application/vnd.jupyter.widget-view+json": {
       "model_id": "df566ed71e4346cfacd4163e31be8907",
       "version_major": 2,
       "version_minor": 0
      },
      "text/plain": [
       "  0%|          | 0/13475 [00:00<?, ?it/s]"
      ]
     },
     "metadata": {},
     "output_type": "display_data"
    },
    {
     "data": {
      "application/vnd.jupyter.widget-view+json": {
       "model_id": "512a895d6e124adcb598ad0a23518054",
       "version_major": 2,
       "version_minor": 0
      },
      "text/plain": [
       "  0%|          | 0/3369 [00:00<?, ?it/s]"
      ]
     },
     "metadata": {},
     "output_type": "display_data"
    }
   ],
   "source": [
    "with mp.Pool() as p:\n",
    "    train[\"tokens\"] = pd.Series(p.imap(tokenize, tqdm(train[\"text\"]), chunksize=100))\n",
    "    test[\"tokens\"] = pd.Series(p.imap(tokenize, tqdm(test[\"text\"]), chunksize=100))"
   ]
  },
  {
   "cell_type": "code",
   "execution_count": 8,
   "id": "formal-heater",
   "metadata": {},
   "outputs": [
    {
     "data": {
      "text/html": [
       "<div>\n",
       "<style scoped>\n",
       "    .dataframe tbody tr th:only-of-type {\n",
       "        vertical-align: middle;\n",
       "    }\n",
       "\n",
       "    .dataframe tbody tr th {\n",
       "        vertical-align: top;\n",
       "    }\n",
       "\n",
       "    .dataframe thead th {\n",
       "        text-align: right;\n",
       "    }\n",
       "</style>\n",
       "<table border=\"1\" class=\"dataframe\">\n",
       "  <thead>\n",
       "    <tr style=\"text-align: right;\">\n",
       "      <th></th>\n",
       "      <th>text</th>\n",
       "      <th>topics</th>\n",
       "      <th>tokens</th>\n",
       "    </tr>\n",
       "  </thead>\n",
       "  <tbody>\n",
       "    <tr>\n",
       "      <th>0</th>\n",
       "      <td>NZ bonds close well bid ahead of key U.S. data...</td>\n",
       "      <td>MCAT</td>\n",
       "      <td>[nz, bonds, close, well, bid, ahead, of, key, ...</td>\n",
       "    </tr>\n",
       "    <tr>\n",
       "      <th>1</th>\n",
       "      <td>Asia Product Swaps - Jet/gas oil regrade at di...</td>\n",
       "      <td>MCAT</td>\n",
       "      <td>[asia, product, swaps, jet, gas, oil, regrade,...</td>\n",
       "    </tr>\n",
       "    <tr>\n",
       "      <th>2</th>\n",
       "      <td>U.S. public schools get a C report card in qua...</td>\n",
       "      <td>GCAT</td>\n",
       "      <td>[public, schools, get, a, c, report, card, in,...</td>\n",
       "    </tr>\n",
       "    <tr>\n",
       "      <th>3</th>\n",
       "      <td>Thunder Bay vessel clearances - May 12. Daily ...</td>\n",
       "      <td>MCAT</td>\n",
       "      <td>[thunder, bay, vessel, clearances, may, daily,...</td>\n",
       "    </tr>\n",
       "    <tr>\n",
       "      <th>4</th>\n",
       "      <td>Amoco gains shares in Ula,Gyda N.Sea fields. A...</td>\n",
       "      <td>CCAT</td>\n",
       "      <td>[amoco, gains, shares, in, ula, gyda, fields, ...</td>\n",
       "    </tr>\n",
       "  </tbody>\n",
       "</table>\n",
       "</div>"
      ],
      "text/plain": [
       "                                                text topics  \\\n",
       "0  NZ bonds close well bid ahead of key U.S. data...   MCAT   \n",
       "1  Asia Product Swaps - Jet/gas oil regrade at di...   MCAT   \n",
       "2  U.S. public schools get a C report card in qua...   GCAT   \n",
       "3  Thunder Bay vessel clearances - May 12. Daily ...   MCAT   \n",
       "4  Amoco gains shares in Ula,Gyda N.Sea fields. A...   CCAT   \n",
       "\n",
       "                                              tokens  \n",
       "0  [nz, bonds, close, well, bid, ahead, of, key, ...  \n",
       "1  [asia, product, swaps, jet, gas, oil, regrade,...  \n",
       "2  [public, schools, get, a, c, report, card, in,...  \n",
       "3  [thunder, bay, vessel, clearances, may, daily,...  \n",
       "4  [amoco, gains, shares, in, ula, gyda, fields, ...  "
      ]
     },
     "execution_count": 8,
     "metadata": {},
     "output_type": "execute_result"
    }
   ],
   "source": [
    "train.head()"
   ]
  },
  {
   "cell_type": "markdown",
   "id": "universal-answer",
   "metadata": {},
   "source": [
    "---"
   ]
  },
  {
   "cell_type": "markdown",
   "id": "imported-falls",
   "metadata": {},
   "source": [
    "### SGDClassifier"
   ]
  },
  {
   "cell_type": "code",
   "execution_count": 9,
   "id": "unlimited-freight",
   "metadata": {},
   "outputs": [],
   "source": [
    "from sklearn.feature_extraction.text import CountVectorizer\n",
    "from sklearn.metrics import classification_report\n",
    "from sklearn.linear_model import SGDClassifier\n",
    "from sklearn.pipeline import make_pipeline"
   ]
  },
  {
   "cell_type": "code",
   "execution_count": 10,
   "id": "accessory-clothing",
   "metadata": {},
   "outputs": [
    {
     "name": "stdout",
     "output_type": "stream",
     "text": [
      "              precision    recall  f1-score   support\n",
      "\n",
      "        CCAT       0.97      0.96      0.96      1475\n",
      "        ECAT       0.91      0.88      0.89       268\n",
      "        GCAT       0.95      0.98      0.97       806\n",
      "        MCAT       0.96      0.95      0.96       820\n",
      "\n",
      "    accuracy                           0.96      3369\n",
      "   macro avg       0.95      0.94      0.95      3369\n",
      "weighted avg       0.96      0.96      0.96      3369\n",
      "\n"
     ]
    }
   ],
   "source": [
    "sgd = make_pipeline(CountVectorizer(analyzer=identity), SGDClassifier())\n",
    "sgd.fit(train[\"tokens\"], train[\"topics\"])\n",
    "predicted = sgd.predict(test[\"tokens\"])\n",
    "print(classification_report(test[\"topics\"], predicted))"
   ]
  },
  {
   "cell_type": "code",
   "execution_count": 11,
   "id": "pregnant-portugal",
   "metadata": {},
   "outputs": [],
   "source": [
    "import logger\n",
    "import mlflow\n",
    "from logger import log_search, log_test"
   ]
  },
  {
   "cell_type": "code",
   "execution_count": 12,
   "id": "figured-wichita",
   "metadata": {},
   "outputs": [],
   "source": [
    "mlflow.set_experiment(\"lab-6\")\n",
    "log_test(sgd, test[\"topics\"], predicted)"
   ]
  },
  {
   "cell_type": "markdown",
   "id": "meaningful-commander",
   "metadata": {},
   "source": [
    "---"
   ]
  },
  {
   "cell_type": "markdown",
   "id": "adequate-argument",
   "metadata": {},
   "source": [
    "### Hyperparameters"
   ]
  },
  {
   "cell_type": "code",
   "execution_count": 13,
   "id": "horizontal-incident",
   "metadata": {},
   "outputs": [
    {
     "data": {
      "text/html": [
       "<table style=\"border: 2px solid white;\">\n",
       "<tr>\n",
       "<td style=\"vertical-align: top; border: 0px solid white\">\n",
       "<h3 style=\"text-align: left;\">Client</h3>\n",
       "<ul style=\"text-align: left; list-style: none; margin: 0; padding: 0;\">\n",
       "  <li><b>Scheduler: </b>tcp://127.0.0.1:35033</li>\n",
       "  <li><b>Dashboard: </b><a href='http://127.0.0.1:8787/status' target='_blank'>http://127.0.0.1:8787/status</a></li>\n",
       "</ul>\n",
       "</td>\n",
       "<td style=\"vertical-align: top; border: 0px solid white\">\n",
       "<h3 style=\"text-align: left;\">Cluster</h3>\n",
       "<ul style=\"text-align: left; list-style:none; margin: 0; padding: 0;\">\n",
       "  <li><b>Workers: </b>4</li>\n",
       "  <li><b>Cores: </b>4</li>\n",
       "  <li><b>Memory: </b>16.62 GB</li>\n",
       "</ul>\n",
       "</td>\n",
       "</tr>\n",
       "</table>"
      ],
      "text/plain": [
       "<Client: 'tcp://127.0.0.1:35033' processes=4 threads=4, memory=16.62 GB>"
      ]
     },
     "execution_count": 13,
     "metadata": {},
     "output_type": "execute_result"
    }
   ],
   "source": [
    "from dask.distributed import Client\n",
    "\n",
    "client = Client(\"tcp://127.0.0.1:35033\")\n",
    "client"
   ]
  },
  {
   "cell_type": "code",
   "execution_count": 14,
   "id": "finnish-junior",
   "metadata": {},
   "outputs": [],
   "source": [
    "from dask_ml.model_selection import RandomizedSearchCV\n",
    "from scipy.stats.distributions import loguniform, randint, uniform"
   ]
  },
  {
   "cell_type": "code",
   "execution_count": 15,
   "id": "pregnant-cooper",
   "metadata": {},
   "outputs": [],
   "source": [
    "from warnings import simplefilter\n",
    "\n",
    "simplefilter(action=\"ignore\", category=FutureWarning)"
   ]
  },
  {
   "cell_type": "code",
   "execution_count": 16,
   "id": "beneficial-rental",
   "metadata": {},
   "outputs": [],
   "source": [
    "mlflow.set_experiment(\"lab-6/SGDClassifier\")"
   ]
  },
  {
   "cell_type": "code",
   "execution_count": 17,
   "id": "sound-proposition",
   "metadata": {},
   "outputs": [
    {
     "name": "stdout",
     "output_type": "stream",
     "text": [
      "CPU times: user 5.38 s, sys: 429 ms, total: 5.81 s\n",
      "Wall time: 1min 4s\n"
     ]
    }
   ],
   "source": [
    "%%time\n",
    "\n",
    "search = RandomizedSearchCV(\n",
    "    sgd,\n",
    "    {\n",
    "        \"countvectorizer__min_df\": randint(1, 10),\n",
    "        \"countvectorizer__max_df\": uniform(0.5, 0.5),\n",
    "        \"sgdclassifier__alpha\": [0.1],\n",
    "    },\n",
    "    n_iter=25,\n",
    "    scoring=\"f1_macro\",\n",
    ")\n",
    "search.fit(train[\"tokens\"], train[\"topics\"])\n",
    "log_search(search)"
   ]
  },
  {
   "cell_type": "markdown",
   "id": "romantic-fleet",
   "metadata": {},
   "source": [
    "### Optimized Model for SGD Classifier\n",
    "\n",
    "\n"
   ]
  },
  {
   "cell_type": "code",
   "execution_count": 18,
   "id": "right-vector",
   "metadata": {},
   "outputs": [
    {
     "name": "stdout",
     "output_type": "stream",
     "text": [
      "              precision    recall  f1-score   support\n",
      "\n",
      "        CCAT       0.95      0.96      0.96      1475\n",
      "        ECAT       0.95      0.75      0.84       268\n",
      "        GCAT       0.95      0.98      0.96       806\n",
      "        MCAT       0.94      0.96      0.95       820\n",
      "\n",
      "    accuracy                           0.95      3369\n",
      "   macro avg       0.95      0.91      0.93      3369\n",
      "weighted avg       0.95      0.95      0.95      3369\n",
      "\n"
     ]
    }
   ],
   "source": [
    "sgd = make_pipeline(\n",
    "    CountVectorizer(analyzer=identity, min_df=2, max_df=0.7), SGDClassifier(alpha=0.1)\n",
    ")\n",
    "sgd.fit(train[\"tokens\"], train[\"topics\"])\n",
    "predicted = sgd.predict(test[\"tokens\"])\n",
    "print(classification_report(test[\"topics\"], predicted))"
   ]
  },
  {
   "cell_type": "code",
   "execution_count": 19,
   "id": "fatty-freeze",
   "metadata": {},
   "outputs": [],
   "source": [
    "mlflow.set_experiment(\"lab-6\")\n",
    "log_test(sgd, test[\"topics\"], predicted)"
   ]
  },
  {
   "cell_type": "markdown",
   "id": "planned-reservation",
   "metadata": {},
   "source": [
    "### TfidTransformer Classifier"
   ]
  },
  {
   "cell_type": "code",
   "execution_count": 20,
   "id": "lyric-geology",
   "metadata": {},
   "outputs": [],
   "source": [
    "from sklearn.feature_extraction.text import TfidfTransformer"
   ]
  },
  {
   "cell_type": "code",
   "execution_count": 21,
   "id": "adopted-diesel",
   "metadata": {},
   "outputs": [
    {
     "name": "stdout",
     "output_type": "stream",
     "text": [
      "              precision    recall  f1-score   support\n",
      "\n",
      "        CCAT       0.96      0.97      0.97      1475\n",
      "        ECAT       0.94      0.82      0.87       268\n",
      "        GCAT       0.95      0.98      0.97       806\n",
      "        MCAT       0.96      0.96      0.96       820\n",
      "\n",
      "    accuracy                           0.96      3369\n",
      "   macro avg       0.95      0.93      0.94      3369\n",
      "weighted avg       0.96      0.96      0.96      3369\n",
      "\n"
     ]
    }
   ],
   "source": [
    "sgd = make_pipeline(CountVectorizer(analyzer=identity), \n",
    "                    TfidfTransformer(), \n",
    "                    SGDClassifier())\n",
    "sgd.fit(train[\"tokens\"], train[\"topics\"])\n",
    "predicted = sgd.predict(test[\"tokens\"])\n",
    "print(classification_report(test[\"topics\"], predicted))"
   ]
  },
  {
   "cell_type": "code",
   "execution_count": 22,
   "id": "demonstrated-treatment",
   "metadata": {},
   "outputs": [],
   "source": [
    "mlflow.set_experiment(\"lab-6/SGDClassifierTransform\")"
   ]
  },
  {
   "cell_type": "code",
   "execution_count": 23,
   "id": "recreational-wrestling",
   "metadata": {},
   "outputs": [
    {
     "name": "stdout",
     "output_type": "stream",
     "text": [
      "CPU times: user 5.48 s, sys: 420 ms, total: 5.9 s\n",
      "Wall time: 1min 5s\n"
     ]
    }
   ],
   "source": [
    "%%time\n",
    "\n",
    "search = RandomizedSearchCV(\n",
    "    sgd,\n",
    "    {\n",
    "        \"countvectorizer__min_df\": randint(1, 10),\n",
    "        \"countvectorizer__max_df\": uniform(0.5, 0.5),\n",
    "        \"sgdclassifier__alpha\": loguniform(1e-8, 100.0),\n",
    "        \"tfidftransformer__smooth_idf\":[True, False],\n",
    "    },\n",
    "    n_iter=25,\n",
    "    scoring=\"f1_macro\",\n",
    ")\n",
    "search.fit(train[\"tokens\"], train[\"topics\"])\n",
    "log_search(search)"
   ]
  },
  {
   "cell_type": "markdown",
   "id": "taken-trial",
   "metadata": {},
   "source": [
    "### Optimized Model for SGD Classifier Transformation"
   ]
  },
  {
   "cell_type": "code",
   "execution_count": 24,
   "id": "pregnant-interval",
   "metadata": {},
   "outputs": [
    {
     "name": "stdout",
     "output_type": "stream",
     "text": [
      "              precision    recall  f1-score   support\n",
      "\n",
      "        CCAT       0.97      0.97      0.97      1475\n",
      "        ECAT       0.94      0.81      0.87       268\n",
      "        GCAT       0.95      0.98      0.97       806\n",
      "        MCAT       0.96      0.97      0.96       820\n",
      "\n",
      "    accuracy                           0.96      3369\n",
      "   macro avg       0.96      0.93      0.94      3369\n",
      "weighted avg       0.96      0.96      0.96      3369\n",
      "\n"
     ]
    }
   ],
   "source": [
    "sgd = make_pipeline(CountVectorizer(analyzer=identity, max_df = 0.97),\n",
    "                    TfidfTransformer(use_idf = \"TRUE\"), \n",
    "                    SGDClassifier(alpha = 0.0001))\n",
    "sgd.fit(train[\"tokens\"], train[\"topics\"])\n",
    "predicted = sgd.predict(test[\"tokens\"])\n",
    "print(classification_report(test[\"topics\"], predicted))    \n",
    "#Take note of the difference between the macro average of the default model and the \n",
    "#optimized model for the transformation."
   ]
  },
  {
   "cell_type": "code",
   "execution_count": 25,
   "id": "encouraging-louisiana",
   "metadata": {},
   "outputs": [],
   "source": [
    "mlflow.set_experiment(\"lab-6\")\n",
    "log_test(sgd, test[\"topics\"], predicted)"
   ]
  },
  {
   "cell_type": "markdown",
   "id": "normal-equilibrium",
   "metadata": {},
   "source": [
    "### Truncated SVD Model"
   ]
  },
  {
   "cell_type": "code",
   "execution_count": null,
   "id": "saving-hearts",
   "metadata": {},
   "outputs": [],
   "source": [
    "from sklearn.decomposition import TruncatedSVD"
   ]
  },
  {
   "cell_type": "code",
   "execution_count": 27,
   "id": "developing-residence",
   "metadata": {},
   "outputs": [
    {
     "name": "stdout",
     "output_type": "stream",
     "text": [
      "              precision    recall  f1-score   support\n",
      "\n",
      "        CCAT       0.96      0.95      0.95      1475\n",
      "        ECAT       0.93      0.74      0.82       268\n",
      "        GCAT       0.91      0.98      0.94       806\n",
      "        MCAT       0.94      0.94      0.94       820\n",
      "\n",
      "    accuracy                           0.94      3369\n",
      "   macro avg       0.93      0.90      0.91      3369\n",
      "weighted avg       0.94      0.94      0.94      3369\n",
      "\n"
     ]
    }
   ],
   "source": [
    "sgd = make_pipeline(CountVectorizer(analyzer=identity), \n",
    "                    TfidfTransformer(), \n",
    "                    TruncatedSVD(n_components=100),\n",
    "                    SGDClassifier())\n",
    "sgd.fit(train[\"tokens\"], train[\"topics\"])\n",
    "predicted = sgd.predict(test[\"tokens\"])\n",
    "print(classification_report(test[\"topics\"], predicted))"
   ]
  },
  {
   "cell_type": "code",
   "execution_count": 28,
   "id": "dedicated-migration",
   "metadata": {},
   "outputs": [],
   "source": [
    "mlflow.set_experiment(\"lab-6/SGDClassifierTruncate\")"
   ]
  },
  {
   "cell_type": "code",
   "execution_count": 29,
   "id": "framed-baghdad",
   "metadata": {},
   "outputs": [
    {
     "name": "stdout",
     "output_type": "stream",
     "text": [
      "CPU times: user 6.05 s, sys: 561 ms, total: 6.61 s\n",
      "Wall time: 3min 58s\n"
     ]
    }
   ],
   "source": [
    "%%time\n",
    "\n",
    "search = RandomizedSearchCV(\n",
    "    sgd,\n",
    "    {\n",
    "        \"countvectorizer__min_df\": randint(1, 10),\n",
    "        \"countvectorizer__max_df\": uniform(0.5, 0.5),\n",
    "        \"sgdclassifier__alpha\": loguniform(1e-8, 100.0),\n",
    "    },\n",
    "    n_iter=25,\n",
    "    scoring=\"f1_macro\",\n",
    ")\n",
    "search.fit(train[\"tokens\"], train[\"topics\"])\n",
    "log_search(search)"
   ]
  },
  {
   "cell_type": "markdown",
   "id": "transsexual-arrival",
   "metadata": {},
   "source": [
    "### Optimized TruncatedSVD "
   ]
  },
  {
   "cell_type": "code",
   "execution_count": 30,
   "id": "cutting-funeral",
   "metadata": {},
   "outputs": [
    {
     "name": "stdout",
     "output_type": "stream",
     "text": [
      "              precision    recall  f1-score   support\n",
      "\n",
      "        CCAT       0.97      0.94      0.95      1475\n",
      "        ECAT       0.92      0.72      0.81       268\n",
      "        GCAT       0.91      0.98      0.94       806\n",
      "        MCAT       0.92      0.96      0.94       820\n",
      "\n",
      "    accuracy                           0.94      3369\n",
      "   macro avg       0.93      0.90      0.91      3369\n",
      "weighted avg       0.94      0.94      0.94      3369\n",
      "\n"
     ]
    }
   ],
   "source": [
    "sgd = make_pipeline(CountVectorizer(analyzer=identity), \n",
    "                    TfidfTransformer(), \n",
    "                    TruncatedSVD(n_components=100),\n",
    "                    SGDClassifier())\n",
    "sgd.fit(train[\"tokens\"], train[\"topics\"])\n",
    "predicted = sgd.predict(test[\"tokens\"])\n",
    "print(classification_report(test[\"topics\"], predicted))"
   ]
  },
  {
   "cell_type": "code",
   "execution_count": 31,
   "id": "arctic-advancement",
   "metadata": {},
   "outputs": [],
   "source": [
    "mlflow.set_experiment(\"lab-6\")\n",
    "log_test(sgd, test[\"topics\"], predicted)"
   ]
  },
  {
   "cell_type": "markdown",
   "id": "relevant-price",
   "metadata": {},
   "source": [
    "### Ngrams Classifier"
   ]
  },
  {
   "cell_type": "code",
   "execution_count": 32,
   "id": "meaningful-explorer",
   "metadata": {},
   "outputs": [
    {
     "name": "stdout",
     "output_type": "stream",
     "text": [
      "              precision    recall  f1-score   support\n",
      "\n",
      "        CCAT       0.97      0.96      0.96      1475\n",
      "        ECAT       0.89      0.86      0.88       268\n",
      "        GCAT       0.96      0.98      0.97       806\n",
      "        MCAT       0.95      0.96      0.95       820\n",
      "\n",
      "    accuracy                           0.95      3369\n",
      "   macro avg       0.94      0.94      0.94      3369\n",
      "weighted avg       0.95      0.95      0.95      3369\n",
      "\n"
     ]
    }
   ],
   "source": [
    "from nltk import bigrams\n",
    "def unibigrams(toks):\n",
    "    return [(tok,) for tok in toks] + list(bigrams(toks))\n",
    "\n",
    "sgd = make_pipeline(CountVectorizer(analyzer=unibigrams), SGDClassifier())\n",
    "sgd.fit(train[\"tokens\"], train[\"topics\"])\n",
    "predicted = sgd.predict(test[\"tokens\"])\n",
    "print(classification_report(test[\"topics\"], predicted))"
   ]
  },
  {
   "cell_type": "code",
   "execution_count": 33,
   "id": "corporate-providence",
   "metadata": {},
   "outputs": [],
   "source": [
    "mlflow.set_experiment(\"lab-6/SGDClassifierNGrams\")"
   ]
  },
  {
   "cell_type": "code",
   "execution_count": null,
   "id": "unique-poverty",
   "metadata": {},
   "outputs": [],
   "source": [
    "%%time\n",
    "\n",
    "search = RandomizedSearchCV(\n",
    "    sgd,\n",
    "    {\n",
    "        \"countvectorizer__min_df\": randint(1, 10),\n",
    "        \"countvectorizer__max_df\": uniform(0.5, 0.5),\n",
    "        \"sgdclassifier__alpha\": loguniform(1e-8, 100.0),\n",
    "    },\n",
    "    n_iter=25,\n",
    "    scoring=\"f1_macro\",\n",
    ")\n",
    "search.fit(train[\"tokens\"], train[\"topics\"])\n",
    "log_search(search)"
   ]
  },
  {
   "cell_type": "code",
   "execution_count": null,
   "id": "elegant-treasurer",
   "metadata": {},
   "outputs": [],
   "source": [
    "sgd = make_pipeline(CountVectorizer(analyzer=unibigrams), SGDClassifier())\n",
    "sgd.fit(train[\"tokens\"], train[\"topics\"])\n",
    "predicted = sgd.predict(test[\"tokens\"])\n",
    "print(classification_report(test[\"topics\"], predicted))"
   ]
  },
  {
   "cell_type": "markdown",
   "id": "controlled-kitty",
   "metadata": {},
   "source": [
    "It would seem that the best classifier from using the skikit learn packages would be the Ngram classifier, as it has the largest macro average f1-score out of the others at 0.94. The order of the best classifiers after the ngram classifier would be the transformer, then truncatedSGD, then the default SGD classifier that I used in making the pipelines for text classification, based on the f1-scores value.  "
   ]
  },
  {
   "cell_type": "code",
   "execution_count": null,
   "id": "rational-catalyst",
   "metadata": {},
   "outputs": [],
   "source": []
  }
 ],
 "metadata": {
  "kernelspec": {
   "display_name": "Python 3",
   "language": "python",
   "name": "python3"
  },
  "language_info": {
   "codemirror_mode": {
    "name": "ipython",
    "version": 3
   },
   "file_extension": ".py",
   "mimetype": "text/x-python",
   "name": "python",
   "nbconvert_exporter": "python",
   "pygments_lexer": "ipython3",
   "version": "3.8.6"
  }
 },
 "nbformat": 4,
 "nbformat_minor": 5
}
